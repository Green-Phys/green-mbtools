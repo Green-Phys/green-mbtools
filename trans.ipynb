{
 "cells": [
  {
   "cell_type": "code",
   "execution_count": 1,
   "metadata": {},
   "outputs": [],
   "source": [
    "import numpy as np\n",
    "import h5py"
   ]
  },
  {
   "cell_type": "code",
   "execution_count": 2,
   "metadata": {},
   "outputs": [],
   "source": [
    "###############\n",
    "# Input - Fermionic object in tau domain\n",
    "#\n",
    "# Ouput - Fermionic object in Matsubara domain at n = 0\n",
    "###############\n",
    "def sigma_zero(Sigma):\n",
    "    # Setup\n",
    "    beta = 100\n",
    "    nts, ncheb = np.shape(Sigma)[0], np.shape(Sigma)[0] - 2\n",
    "    tau_mesh = np.zeros(nts)\n",
    "    tau_mesh[0], tau_mesh[-1] = 0, beta\n",
    "    for it in range(1,nts-1):\n",
    "        z = np.cos(np.pi*(it - 0.5)/ncheb)\n",
    "        tau_mesh[nts - it - 1] = (z+1)*beta/2\n",
    "    # Define Chebyshev polynomials\n",
    "    _Ttc = np.zeros((nts, ncheb))\n",
    "    for it in range(nts):\n",
    "        x = 2.0 * tau_mesh[it]/beta - 1.0\n",
    "        _Ttc[it, 0] = 1.0\n",
    "        _Ttc[it, 1] = x\n",
    "        for ic in range(2,ncheb):\n",
    "            _Ttc[it, ic] = 2.0*x*_Ttc[it, ic-1] - _Ttc[it, ic-2]\n",
    "\n",
    "    x = 1.0/ncheb\n",
    "    _Tct = np.zeros((ncheb, nts))\n",
    "    for ic in range(ncheb):\n",
    "        if ic == 0:\n",
    "            factor = 1.0\n",
    "        else:\n",
    "            factor = 2.0\n",
    "        for it in range(1,nts-1):\n",
    "            _Tct[ic, it] = _Ttc[it, ic] * factor * x\n",
    "\n",
    "    _T_0l = np.zeros(ncheb, dtype=complex)\n",
    "    Tnl = h5py.File('/Users/CanonYeh/Projects/chebyshev_input/TNC.h5')\n",
    "    for ic in range(ncheb):\n",
    "        re = Tnl[\"TNC_\"+str(ic)+\"_r\"][()]\n",
    "        im = Tnl[\"TNC_\"+str(ic)+\"_i\"][()]\n",
    "        _T_0l[ic] = complex(re[0],im[0]) * beta/20\n",
    "    Tnl.close()\n",
    "\n",
    "    # Selfenergy in Chebyshev representation\n",
    "    Sigma_c = np.einsum('ij,jklmn -> iklmn', _Tct, Sigma)\n",
    "    # Selfenergy in zero frequency\n",
    "    Sigma_w0 = np.einsum('i,ijklm->jklm', _T_0l, Sigma_c)\n",
    "\n",
    "    return(Sigma_w0)"
   ]
  },
  {
   "cell_type": "code",
   "execution_count": null,
   "metadata": {},
   "outputs": [],
   "source": []
  }
 ],
 "metadata": {
  "kernelspec": {
   "display_name": "Python 3",
   "language": "python",
   "name": "python3"
  },
  "language_info": {
   "codemirror_mode": {
    "name": "ipython",
    "version": 3
   },
   "file_extension": ".py",
   "mimetype": "text/x-python",
   "name": "python",
   "nbconvert_exporter": "python",
   "pygments_lexer": "ipython3",
   "version": "3.7.1"
  }
 },
 "nbformat": 4,
 "nbformat_minor": 2
}
