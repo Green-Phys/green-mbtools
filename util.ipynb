{
 "cells": [
  {
   "cell_type": "code",
   "execution_count": 1,
   "metadata": {},
   "outputs": [],
   "source": [
    "import numpy as np\n",
    "import h5py "
   ]
  },
  {
   "cell_type": "code",
   "execution_count": 47,
   "metadata": {},
   "outputs": [],
   "source": [
    "###############\n",
    "# Input - k-resolved density matrix\n",
    "# Input - List of reduced k-points\n",
    "# Input - Corresponding weight\n",
    "#\n",
    "# Ouput - Occupation number in natural orbitals\n",
    "###############\n",
    "def loc_dens(Dm_k, ir_list=None, weight=None):\n",
    "    ink = np.shape(Dm_k)[-3]\n",
    "    nao = np.shape(Dm_k)[-2]\n",
    "    dens_loc = np.zeros((nao,nao),dtype=complex)\n",
    "    if ir_list is not None and weight is not None:\n",
    "        nk = np.shape(weight)[0]\n",
    "    else: \n",
    "        nk = ink\n",
    "        ir_list = np.arange(nk)\n",
    "        weight = np.array([1 for i in range(nk)])\n",
    "    # Sum over k points\n",
    "    for ik_ind in range(ink):\n",
    "        ik = ir_list[ik_ind]\n",
    "        dens_loc += weight[ik] * Dm_k[ik_ind]\n",
    "    dens_loc/=nk\n",
    "    # Diagonalize to natural orbitals\n",
    "    occ_loc = np.linalg.eigvalsh(dens_loc)\n",
    "    \n",
    "    return occ_loc"
   ]
  },
  {
   "cell_type": "code",
   "execution_count": 48,
   "metadata": {},
   "outputs": [
    {
     "name": "stdout",
     "output_type": "stream",
     "text": [
      "[  0   1   2   3   4   8   9  10  11  12  13  14  15  16  17  18  19  20\n",
      "  21  22  23  24  25  26  27  28  29  30  31  32  33  34  35  36  64  65\n",
      "  66  67  68  69  70  71  72  73  74  75  76  77  78  79  80  81  82  83\n",
      "  84  85  86  87  88  89  90  91  92  93  94  95  96  97  98  99 100 101\n",
      " 102 103 104 105 106 107 108 109 110 111 112 113 114 115 116 117 118 119\n",
      " 120 121 122 123 124 125 126 127 128 129 130 131 132 133 134 135 136 137\n",
      " 138 139 140 141 142 143 144 145 146 147 148 149 150 151 152 153 154 155\n",
      " 156 157 158 159 160 161 162 163 164 165 166 167 168 169 170 171 172 173\n",
      " 174 175 176 177 178 179 180 181 182 183 184 185 186 187 188 189 190 191\n",
      " 192 193 194 195 196 197 198 199 200 201 202 203 204 205 206 207 208 209\n",
      " 210 211 212 213 214 215 216 217 218 219 220 221 222 223 224 225 226 227\n",
      " 228 229 230 231 232 233 234 235 236 237 238 239 240 241 242 243 244 245\n",
      " 246 247 248 249 250 251 252 253 254 255 256 257 258 259 260 264 265 266\n",
      " 267 268 269 270 271 272 273 274 275 276 277 278 279 280 281 282 283 284\n",
      " 285 286 287 288 289 290 291 292]\n",
      "(260,)\n",
      "(512,)\n",
      "(64, 11, 11)\n",
      "4.769336371951569\n",
      "[1.15690151e-04 4.93342942e-03 5.02286113e-03 5.02286115e-03\n",
      " 2.43078363e-02 2.57819543e-02 2.57819550e-02 4.11513612e-02\n",
      " 3.15235266e-01 9.35413629e-01 3.38656953e+00]\n"
     ]
    }
   ],
   "source": [
    "kpts_8 = [15, 29, 148, 230, 165, 100, 35, 0, 6, 15]\n",
    "kpts_84 = [18, 32, 406, 260, 325, 390, 455, 0, 9, 18]\n",
    "kpts_4 = [5, 8, 55, 34, 51, 0, 5]\n",
    "nk = np.shape(kpts_8)[0]\n",
    "nk4 = np.shape(kpts_4)[0]\n",
    "\n",
    "sim_8 = h5py.File('/Users/CanonYeh/Projects/LiH/sim_last_8.h5')\n",
    "inp_8 = h5py.File('/Users/CanonYeh/Projects/LiH/input_8.h5')\n",
    "ir_list = inp_8[\"/grid/ir_list\"][()]\n",
    "weight  = inp_8[\"/grid/weight\"][()]\n",
    "G_tau_8 = sim_8[\"/iter14/G_tau/data\"][()].view(np.complex)\n",
    "sim_8.close()\n",
    "inp_8.close()\n",
    "Dm_8 = -G_tau_8[-1,:,:,:,0]\n",
    "\n",
    "print(ir_list)\n",
    "\n",
    "occ_8 = loc_dens(Dm_8, ir_list, weight)\n",
    "\n",
    "print(np.shape(ir_list))\n",
    "print(np.shape(weight))\n",
    "\n",
    "\n",
    "print(np.shape(Dm_4))\n",
    "\n",
    "# Compute occupation numbers\n",
    "occ_4 = loc_dens(Dm_4)\n",
    "\n",
    "print(np.sum(occ_4))\n",
    "print(occ_4)"
   ]
  },
  {
   "cell_type": "code",
   "execution_count": null,
   "metadata": {},
   "outputs": [],
   "source": []
  }
 ],
 "metadata": {
  "kernelspec": {
   "display_name": "Python 3",
   "language": "python",
   "name": "python3"
  },
  "language_info": {
   "codemirror_mode": {
    "name": "ipython",
    "version": 3
   },
   "file_extension": ".py",
   "mimetype": "text/x-python",
   "name": "python",
   "nbconvert_exporter": "python",
   "pygments_lexer": "ipython3",
   "version": "3.7.1"
  }
 },
 "nbformat": 4,
 "nbformat_minor": 2
}
